{
 "cells": [
  {
   "cell_type": "code",
   "execution_count": 5,
   "metadata": {},
   "outputs": [],
   "source": [
    "from Preprocessing.preprocessing import CleaningData\n",
    "%load_ext autoreload\n",
    "%autoreload 2"
   ]
  },
  {
   "cell_type": "code",
   "execution_count": 2,
   "metadata": {},
   "outputs": [
    {
     "name": "stdout",
     "output_type": "stream",
     "text": [
      "['201912-opzetstukken.csv', '202001-opzetstukken.csv', '202002-opzetstukken.csv', '202003-opzetstukken.csv', '202004-opzetstukken.csv', '202005-opzetstukken.csv', '202006-opzetstukken.csv', '202007-opzetstukken.csv', '202008-opzetstukken.csv', '202009-opzetstukken.csv', '202010-opzetstukken.csv', '202011-opzetstukken.csv', 'strain#10106.csv', 'strain#10107.csv', 'strain#10108.csv', 'strain#10109.csv', 'strain#10110.csv', 'strain#10111.csv', 'strain#10114.csv', 'strain#10115.csv', 'strain#10116.csv', 'strain#10117.csv', 'strain#10118.csv', 'strain#10201.csv', 'strain#10202.csv', 'strain#10203.csv', 'strain#10204.csv', 'strain#10205.csv', 'strain#10206.csv', 'strain#10207.csv', 'strain#10208.csv', 'strain#10209.csv', 'strain#10210.csv', 'strain#10211.csv', 'strain#10212.csv', 'strain#10213.csv', 'strain#10214.csv', 'strain#10215.csv', 'strain#10216.csv', 'strain#10217.csv', 'strain#10218.csv', 'strain#10219.csv', 'strain#10220.csv', 'strain#10221.csv', 'strain#10222.csv', 'strain-temp#10112.csv', 'strain-temp#10113.csv', 'strain-temp#10419.csv', 'strain-temp#10420.csv', 'strain-temp#10421.csv', 'strain-temp#10422.csv', 'strain-temp#20525.csv', 'strain-temp#20526.csv', 'strain-temp#20527.csv', 'strain-temp#20625.csv', 'strain-temp#20626.csv', 'strain-temp#20627.csv', 'strain-temp#20701.csv', 'strain-temp#20702.csv', 'strain-temp#20703.csv', 'strain-temp#20825.csv', 'strain-temp#20826.csv', 'strain-temp#20827.csv']\n"
     ]
    },
    {
     "data": {
      "text/plain": [
       "<Preprocessing.preprocessing.CleaningData at 0x26bb6c6fcc8>"
      ]
     },
     "execution_count": 2,
     "metadata": {},
     "output_type": "execute_result"
    }
   ],
   "source": [
    "CleaningData()"
   ]
  },
  {
   "cell_type": "code",
   "execution_count": null,
   "metadata": {},
   "outputs": [],
   "source": []
  }
 ],
 "metadata": {
  "kernelspec": {
   "display_name": "Python 3",
   "language": "python",
   "name": "python3"
  },
  "language_info": {
   "codemirror_mode": {
    "name": "ipython",
    "version": 3
   },
   "file_extension": ".py",
   "mimetype": "text/x-python",
   "name": "python",
   "nbconvert_exporter": "python",
   "pygments_lexer": "ipython3",
   "version": "3.7.4"
  }
 },
 "nbformat": 4,
 "nbformat_minor": 2
}
