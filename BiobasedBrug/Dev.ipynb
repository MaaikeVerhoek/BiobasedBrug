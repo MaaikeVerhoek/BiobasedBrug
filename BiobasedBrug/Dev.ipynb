{
 "cells": [
  {
   "cell_type": "code",
   "execution_count": 7,
   "metadata": {},
   "outputs": [],
   "source": [
    "from Preprocessing.preprocessing import CleaningData\n",
    "%load_ext autoreload\n",
    "%autoreload 2"
   ]
  },
  {
   "cell_type": "code",
   "execution_count": 12,
   "metadata": {},
   "outputs": [],
   "source": [
    "dit = CleaningData()"
   ]
  },
  {
   "cell_type": "code",
   "execution_count": 13,
   "metadata": {},
   "outputs": [
    {
     "data": {
      "text/html": [
       "<div>\n",
       "<style scoped>\n",
       "    .dataframe tbody tr th:only-of-type {\n",
       "        vertical-align: middle;\n",
       "    }\n",
       "\n",
       "    .dataframe tbody tr th {\n",
       "        vertical-align: top;\n",
       "    }\n",
       "\n",
       "    .dataframe thead th {\n",
       "        text-align: right;\n",
       "    }\n",
       "</style>\n",
       "<table border=\"1\" class=\"dataframe\">\n",
       "  <thead>\n",
       "    <tr style=\"text-align: right;\">\n",
       "      <th></th>\n",
       "      <th>Datum-tijd</th>\n",
       "      <th>Opzetstuk Noord (°)</th>\n",
       "      <th>Opzetstuk Zuid (°)</th>\n",
       "    </tr>\n",
       "  </thead>\n",
       "  <tbody>\n",
       "    <tr>\n",
       "      <td>0</td>\n",
       "      <td>2020-05-31T22:00:00Z</td>\n",
       "      <td>90,6</td>\n",
       "      <td>88,6</td>\n",
       "    </tr>\n",
       "    <tr>\n",
       "      <td>1</td>\n",
       "      <td>2020-05-31T22:00:02Z</td>\n",
       "      <td>90,6</td>\n",
       "      <td>88,6</td>\n",
       "    </tr>\n",
       "    <tr>\n",
       "      <td>2</td>\n",
       "      <td>2020-05-31T22:00:03Z</td>\n",
       "      <td>90,6</td>\n",
       "      <td>88,6</td>\n",
       "    </tr>\n",
       "    <tr>\n",
       "      <td>3</td>\n",
       "      <td>2020-05-31T22:00:04Z</td>\n",
       "      <td>90,6</td>\n",
       "      <td>88,6</td>\n",
       "    </tr>\n",
       "    <tr>\n",
       "      <td>4</td>\n",
       "      <td>2020-05-31T22:00:06Z</td>\n",
       "      <td>90,6</td>\n",
       "      <td>88,6</td>\n",
       "    </tr>\n",
       "    <tr>\n",
       "      <td>...</td>\n",
       "      <td>...</td>\n",
       "      <td>...</td>\n",
       "      <td>...</td>\n",
       "    </tr>\n",
       "    <tr>\n",
       "      <td>1908490</td>\n",
       "      <td>2020-06-30T21:59:54Z</td>\n",
       "      <td>90,7</td>\n",
       "      <td>97,3</td>\n",
       "    </tr>\n",
       "    <tr>\n",
       "      <td>1908491</td>\n",
       "      <td>2020-06-30T21:59:55Z</td>\n",
       "      <td>90,7</td>\n",
       "      <td>97,3</td>\n",
       "    </tr>\n",
       "    <tr>\n",
       "      <td>1908492</td>\n",
       "      <td>2020-06-30T21:59:57Z</td>\n",
       "      <td>90,7</td>\n",
       "      <td>97,3</td>\n",
       "    </tr>\n",
       "    <tr>\n",
       "      <td>1908493</td>\n",
       "      <td>2020-06-30T21:59:58Z</td>\n",
       "      <td>90,7</td>\n",
       "      <td>97,3</td>\n",
       "    </tr>\n",
       "    <tr>\n",
       "      <td>1908494</td>\n",
       "      <td>2020-06-30T21:59:59Z</td>\n",
       "      <td>90,7</td>\n",
       "      <td>97,3</td>\n",
       "    </tr>\n",
       "  </tbody>\n",
       "</table>\n",
       "<p>1908495 rows × 3 columns</p>\n",
       "</div>"
      ],
      "text/plain": [
       "                   Datum-tijd Opzetstuk Noord (°) Opzetstuk Zuid (°)\n",
       "0        2020-05-31T22:00:00Z                90,6               88,6\n",
       "1        2020-05-31T22:00:02Z                90,6               88,6\n",
       "2        2020-05-31T22:00:03Z                90,6               88,6\n",
       "3        2020-05-31T22:00:04Z                90,6               88,6\n",
       "4        2020-05-31T22:00:06Z                90,6               88,6\n",
       "...                       ...                 ...                ...\n",
       "1908490  2020-06-30T21:59:54Z                90,7               97,3\n",
       "1908491  2020-06-30T21:59:55Z                90,7               97,3\n",
       "1908492  2020-06-30T21:59:57Z                90,7               97,3\n",
       "1908493  2020-06-30T21:59:58Z                90,7               97,3\n",
       "1908494  2020-06-30T21:59:59Z                90,7               97,3\n",
       "\n",
       "[1908495 rows x 3 columns]"
      ]
     },
     "execution_count": 13,
     "metadata": {},
     "output_type": "execute_result"
    }
   ],
   "source": [
    "dit.raw_data"
   ]
  },
  {
   "cell_type": "code",
   "execution_count": null,
   "metadata": {},
   "outputs": [],
   "source": []
  }
 ],
 "metadata": {
  "kernelspec": {
   "display_name": "Python 3",
   "language": "python",
   "name": "python3"
  },
  "language_info": {
   "codemirror_mode": {
    "name": "ipython",
    "version": 3
   },
   "file_extension": ".py",
   "mimetype": "text/x-python",
   "name": "python",
   "nbconvert_exporter": "python",
   "pygments_lexer": "ipython3",
   "version": "3.7.4"
  }
 },
 "nbformat": 4,
 "nbformat_minor": 2
}
